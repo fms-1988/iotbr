{
 "cells": [
  {
   "cell_type": "code",
   "execution_count": 24,
   "id": "ac3a4926-e358-434c-a45f-833fdafbeee0",
   "metadata": {},
   "outputs": [],
   "source": [
    "# ! pip install iotbr==0.1.0\n",
    "import numpy as np\n",
    "from iotbr import tru as tru\n",
    "from iotbr import tru_pb as tru_pb\n",
    "from iotbr import io_system as ios"
   ]
  },
  {
   "cell_type": "code",
   "execution_count": 17,
   "id": "a2b76371-149b-4ec7-904e-293ce3d1f62d",
   "metadata": {},
   "outputs": [],
   "source": [
    "# 1) Encontrar matrizes de demanda final (mE) e demanda total (mU) a preços básicos\n",
    "#usando o métrodo do Prof. Dr. Guilhoto\n",
    "mU, mE = tru_pb.D_total_pb('2019', '68')"
   ]
  },
  {
   "cell_type": "code",
   "execution_count": 18,
   "id": "4c2ef14d-3e12-4161-a108-1c2d8224b135",
   "metadata": {},
   "outputs": [],
   "source": [
    "#2) Estimar matriz a preços básicos para anos e níveis diferente\n",
    "mU, mE = tru_pb.D_total_pb('2010', '20')"
   ]
  },
  {
   "cell_type": "code",
   "execution_count": 19,
   "id": "51cdbff5-4696-43c4-bfce-2901fe9294f7",
   "metadata": {},
   "outputs": [],
   "source": [
    "# 3) Estimar matriz a preços básicos para anos, níveis e unidades diferentes\n",
    "mU, mE = tru_pb.D_total_pb('2010','51','t-1')"
   ]
  },
  {
   "cell_type": "code",
   "execution_count": 22,
   "id": "6af16e2a-9a69-4af4-896c-ceb375e0ef98",
   "metadata": {},
   "outputs": [
    {
     "data": {
      "text/plain": [
       "array([[1.03120550e+00, 5.90855217e-02, 1.31050540e-02, ...,\n",
       "        1.71297779e-03, 7.67611874e-03, 0.00000000e+00],\n",
       "       [4.10371406e-03, 1.04658749e+00, 7.69782326e-03, ...,\n",
       "        4.70786312e-04, 3.55466549e-03, 0.00000000e+00],\n",
       "       [5.54903277e-03, 1.30481823e-02, 1.08105735e+00, ...,\n",
       "        5.42740862e-04, 1.18713282e-03, 0.00000000e+00],\n",
       "       ...,\n",
       "       [2.11664665e-04, 4.09153978e-04, 2.17234021e-04, ...,\n",
       "        1.02038011e+00, 7.87288278e-03, 0.00000000e+00],\n",
       "       [1.50403556e-03, 1.51744638e-03, 1.37009686e-03, ...,\n",
       "        1.81082519e-03, 1.00377326e+00, 0.00000000e+00],\n",
       "       [0.00000000e+00, 0.00000000e+00, 0.00000000e+00, ...,\n",
       "        0.00000000e+00, 0.00000000e+00, 1.00000000e+00]])"
      ]
     },
     "execution_count": 22,
     "metadata": {},
     "output_type": "execute_result"
    }
   ],
   "source": [
    "# 4) estimar a matrizes do sistema IO\n",
    "year = '2010'\n",
    "level = '68'\n",
    "unit = 't'\n",
    "mU, mE = tru_pb.D_total_pb(year,level,unit)\n",
    "\n",
    "\n",
    "#Estimar matriz (D)\n",
    "mV = tru.read_var(year,level,'P_matrix',unit).values.T\n",
    "#Total produzido por produto\n",
    "#vQ = np.sum(mV, axis=0)\n",
    "vQ = tru.read_var(year,level,'PT',unit).values\n",
    "mQChapeu = np.diagflat(1/vQ)\n",
    "mD = np.dot(mV, mQChapeu)\n",
    "\n",
    "#Estimar matriz (B)\n",
    "#Total produzido por setor\n",
    "vVBP = np.sum(mV, axis=1)\n",
    "vX = np.copy(vVBP)\n",
    "mXChapeu = np.diagflat(1/vX)\n",
    "mB=np.dot(mU,mXChapeu)\n",
    "\n",
    "mA = np.dot(mD,mB).astype(float)\n",
    "mY = np.dot(mD,mE).astype(float)\n",
    "mZ = np.dot(mD,mU).astype(float)\n",
    "mI = np.eye(int(level))\n",
    "\n",
    "mLeontief = np.linalg.inv(mI - mA)\n",
    "\n",
    "mLeontief"
   ]
  },
  {
   "cell_type": "code",
   "execution_count": 25,
   "id": "ff7e7d18-1cb9-45a8-af91-37162ba53131",
   "metadata": {},
   "outputs": [],
   "source": [
    "# 5) estimar as matrizes do sistema IO automaticamente\n",
    "sys = ios.system('2010','68','t')\n",
    "mU = sys.mD_int_pb\n",
    "mE = sys.mD_final_pb\n",
    "mZ = sys.mD_int_pb_qua\n",
    "mY = sys.mD_final_pb_qua\n",
    "mL = sys.mLeontief"
   ]
  },
  {
   "cell_type": "code",
   "execution_count": 27,
   "id": "979a7748-ecd5-438e-b417-c6c1fa053b18",
   "metadata": {},
   "outputs": [
    {
     "name": "stdout",
     "output_type": "stream",
     "text": [
      "(68, 68)\n"
     ]
    },
    {
     "data": {
      "text/plain": [
       "array([[1.03120550e+00, 5.90855217e-02, 1.31050540e-02, ...,\n",
       "        1.71297779e-03, 7.67611874e-03, 0.00000000e+00],\n",
       "       [4.10371406e-03, 1.04658749e+00, 7.69782326e-03, ...,\n",
       "        4.70786312e-04, 3.55466549e-03, 0.00000000e+00],\n",
       "       [5.54903277e-03, 1.30481823e-02, 1.08105735e+00, ...,\n",
       "        5.42740862e-04, 1.18713282e-03, 0.00000000e+00],\n",
       "       ...,\n",
       "       [2.11664665e-04, 4.09153978e-04, 2.17234021e-04, ...,\n",
       "        1.02038011e+00, 7.87288278e-03, 0.00000000e+00],\n",
       "       [1.50403556e-03, 1.51744638e-03, 1.37009686e-03, ...,\n",
       "        1.81082519e-03, 1.00377326e+00, 0.00000000e+00],\n",
       "       [0.00000000e+00, 0.00000000e+00, 0.00000000e+00, ...,\n",
       "        0.00000000e+00, 0.00000000e+00, 1.00000000e+00]])"
      ]
     },
     "execution_count": 27,
     "metadata": {},
     "output_type": "execute_result"
    }
   ],
   "source": [
    "print(mL.shape)\n",
    "mL"
   ]
  },
  {
   "cell_type": "code",
   "execution_count": 28,
   "id": "f8c05837-c3d3-4d03-93f6-7a97d84b2911",
   "metadata": {},
   "outputs": [
    {
     "data": {
      "text/plain": [
       "array([[1.03120550e+00, 5.90855217e-02, 1.31050540e-02, ...,\n",
       "        1.71297779e-03, 7.67611874e-03, 0.00000000e+00],\n",
       "       [4.10371406e-03, 1.04658749e+00, 7.69782326e-03, ...,\n",
       "        4.70786312e-04, 3.55466549e-03, 0.00000000e+00],\n",
       "       [5.54903277e-03, 1.30481823e-02, 1.08105735e+00, ...,\n",
       "        5.42740862e-04, 1.18713282e-03, 0.00000000e+00],\n",
       "       ...,\n",
       "       [2.11664665e-04, 4.09153978e-04, 2.17234021e-04, ...,\n",
       "        1.02038011e+00, 7.87288278e-03, 0.00000000e+00],\n",
       "       [1.50403556e-03, 1.51744638e-03, 1.37009686e-03, ...,\n",
       "        1.81082519e-03, 1.00377326e+00, 0.00000000e+00],\n",
       "       [0.00000000e+00, 0.00000000e+00, 0.00000000e+00, ...,\n",
       "        0.00000000e+00, 0.00000000e+00, 1.00000000e+00]])"
      ]
     },
     "execution_count": 28,
     "metadata": {},
     "output_type": "execute_result"
    }
   ],
   "source": [
    "# 6) estimar matriz leontief usando (VA) e (mZ)\n",
    "import numpy as np\n",
    "df = tru.read_var('2010','68','VA_table','t')\n",
    "#df.loc[:,df.columns.str.contains('Valor da produção')]\n",
    "vVA_pro = df['Valor da produção'].values\n",
    "vX = np.copy(vVA_pro)\n",
    "mXChapeu = np.diagflat(1/vX)\n",
    "\n",
    "mZ = sys.mD_int_pb_qua\n",
    "mA=np.dot(mZ,mXChapeu).astype(float)\n",
    "mI = np.eye(len(df))\n",
    "mLeontief = np.linalg.inv(mI - mA)\n",
    "mB = mLeontief\n",
    "mB"
   ]
  },
  {
   "cell_type": "code",
   "execution_count": 30,
   "id": "15e431fd-7e9f-475e-8090-316b3dceaa1a",
   "metadata": {},
   "outputs": [
    {
     "data": {
      "text/html": [
       "<div>\n",
       "<style scoped>\n",
       "    .dataframe tbody tr th:only-of-type {\n",
       "        vertical-align: middle;\n",
       "    }\n",
       "\n",
       "    .dataframe tbody tr th {\n",
       "        vertical-align: top;\n",
       "    }\n",
       "\n",
       "    .dataframe thead th {\n",
       "        text-align: right;\n",
       "    }\n",
       "</style>\n",
       "<table border=\"1\" class=\"dataframe\">\n",
       "  <thead>\n",
       "    <tr style=\"text-align: right;\">\n",
       "      <th></th>\n",
       "      <th>I_imp</th>\n",
       "      <th>ICMS</th>\n",
       "      <th>IPI</th>\n",
       "      <th>OI_liq_Sub</th>\n",
       "    </tr>\n",
       "  </thead>\n",
       "  <tbody>\n",
       "    <tr>\n",
       "      <th>0191\\nAgricultura, inclusive o apoio à agricultura e a pós-colheita</th>\n",
       "      <td>144.497787</td>\n",
       "      <td>2984.301976</td>\n",
       "      <td>49.207507</td>\n",
       "      <td>2184.419936</td>\n",
       "    </tr>\n",
       "    <tr>\n",
       "      <th>0192\\nPecuária, inclusive o apoio à pecuária</th>\n",
       "      <td>67.545387</td>\n",
       "      <td>2098.28322</td>\n",
       "      <td>63.218639</td>\n",
       "      <td>1002.874846</td>\n",
       "    </tr>\n",
       "    <tr>\n",
       "      <th>0280\\nProdução florestal; pesca e aquicultura</th>\n",
       "      <td>7.485352</td>\n",
       "      <td>252.16383</td>\n",
       "      <td>4.669596</td>\n",
       "      <td>160.000588</td>\n",
       "    </tr>\n",
       "    <tr>\n",
       "      <th>0580\\nExtração de carvão mineral e de minerais não-metálicos</th>\n",
       "      <td>45.190511</td>\n",
       "      <td>185.40208</td>\n",
       "      <td>34.379344</td>\n",
       "      <td>347.969841</td>\n",
       "    </tr>\n",
       "    <tr>\n",
       "      <th>0680\\nExtração de petróleo e gás, inclusive as atividades de apoio</th>\n",
       "      <td>179.135465</td>\n",
       "      <td>622.965601</td>\n",
       "      <td>73.097543</td>\n",
       "      <td>3048.128123</td>\n",
       "    </tr>\n",
       "    <tr>\n",
       "      <th>...</th>\n",
       "      <td>...</td>\n",
       "      <td>...</td>\n",
       "      <td>...</td>\n",
       "      <td>...</td>\n",
       "    </tr>\n",
       "    <tr>\n",
       "      <th>8691\\nSaúde pública</th>\n",
       "      <td>98.650455</td>\n",
       "      <td>1676.6383</td>\n",
       "      <td>103.316677</td>\n",
       "      <td>1236.38142</td>\n",
       "    </tr>\n",
       "    <tr>\n",
       "      <th>8692\\nSaúde privada</th>\n",
       "      <td>203.212164</td>\n",
       "      <td>3080.215012</td>\n",
       "      <td>250.087283</td>\n",
       "      <td>1568.114223</td>\n",
       "    </tr>\n",
       "    <tr>\n",
       "      <th>9080\\nAtividades artísticas, criativas e de espetáculos</th>\n",
       "      <td>7.668853</td>\n",
       "      <td>240.02476</td>\n",
       "      <td>21.481084</td>\n",
       "      <td>381.097896</td>\n",
       "    </tr>\n",
       "    <tr>\n",
       "      <th>9480\\nOrganizações associativas e outros serviços pessoais</th>\n",
       "      <td>61.614727</td>\n",
       "      <td>2282.462314</td>\n",
       "      <td>154.802442</td>\n",
       "      <td>2324.373881</td>\n",
       "    </tr>\n",
       "    <tr>\n",
       "      <th>9700\\nServiços domésticos</th>\n",
       "      <td>0.0</td>\n",
       "      <td>0.0</td>\n",
       "      <td>0.0</td>\n",
       "      <td>0.0</td>\n",
       "    </tr>\n",
       "  </tbody>\n",
       "</table>\n",
       "<p>68 rows × 4 columns</p>\n",
       "</div>"
      ],
      "text/plain": [
       "                                                         I_imp         ICMS  \\\n",
       "0191\\nAgricultura, inclusive o apoio à agricult...  144.497787  2984.301976   \n",
       "0192\\nPecuária, inclusive o apoio à pecuária         67.545387   2098.28322   \n",
       "0280\\nProdução florestal; pesca e aquicultura         7.485352    252.16383   \n",
       "0580\\nExtração de carvão mineral e de minerais ...   45.190511    185.40208   \n",
       "0680\\nExtração de petróleo e gás, inclusive as ...  179.135465   622.965601   \n",
       "...                                                        ...          ...   \n",
       "8691\\nSaúde pública                                  98.650455    1676.6383   \n",
       "8692\\nSaúde privada                                 203.212164  3080.215012   \n",
       "9080\\nAtividades artísticas, criativas e de esp...    7.668853    240.02476   \n",
       "9480\\nOrganizações associativas e outros serviç...   61.614727  2282.462314   \n",
       "9700\\nServiços domésticos                                  0.0          0.0   \n",
       "\n",
       "                                                           IPI   OI_liq_Sub  \n",
       "0191\\nAgricultura, inclusive o apoio à agricult...   49.207507  2184.419936  \n",
       "0192\\nPecuária, inclusive o apoio à pecuária         63.218639  1002.874846  \n",
       "0280\\nProdução florestal; pesca e aquicultura         4.669596   160.000588  \n",
       "0580\\nExtração de carvão mineral e de minerais ...   34.379344   347.969841  \n",
       "0680\\nExtração de petróleo e gás, inclusive as ...   73.097543  3048.128123  \n",
       "...                                                        ...          ...  \n",
       "8691\\nSaúde pública                                 103.316677   1236.38142  \n",
       "8692\\nSaúde privada                                 250.087283  1568.114223  \n",
       "9080\\nAtividades artísticas, criativas e de esp...   21.481084   381.097896  \n",
       "9480\\nOrganizações associativas e outros serviç...  154.802442  2324.373881  \n",
       "9700\\nServiços domésticos                                  0.0          0.0  \n",
       "\n",
       "[68 rows x 4 columns]"
      ]
     },
     "execution_count": 30,
     "metadata": {},
     "output_type": "execute_result"
    }
   ],
   "source": [
    "# 7) Todas as matrizes do sistema IO no formato df\n",
    "mZ = sys.mZ\n",
    "mY = sys.mY\n",
    "mL = sys.mL\n",
    "mT = sys.mT_int\n",
    "mM = sys.mM_int\n",
    "#mV = tru.read_var('2019','68','P_matrix','t').T\n",
    "#vX = np.sum(mV, axis=1)\n",
    "#vX\n",
    "\n",
    "mT"
   ]
  },
  {
   "cell_type": "code",
   "execution_count": 31,
   "id": "e1d3e1d1-888c-41a5-a6f2-9fedfc828f78",
   "metadata": {},
   "outputs": [
    {
     "data": {
      "text/html": [
       "<div>\n",
       "<style scoped>\n",
       "    .dataframe tbody tr th:only-of-type {\n",
       "        vertical-align: middle;\n",
       "    }\n",
       "\n",
       "    .dataframe tbody tr th {\n",
       "        vertical-align: top;\n",
       "    }\n",
       "\n",
       "    .dataframe thead th {\n",
       "        text-align: right;\n",
       "    }\n",
       "</style>\n",
       "<table border=\"1\" class=\"dataframe\">\n",
       "  <thead>\n",
       "    <tr style=\"text-align: right;\">\n",
       "      <th></th>\n",
       "      <th>X_bens_serv</th>\n",
       "      <th>C_g</th>\n",
       "      <th>C_ong</th>\n",
       "      <th>C_f</th>\n",
       "      <th>FBKF</th>\n",
       "      <th>DE</th>\n",
       "    </tr>\n",
       "  </thead>\n",
       "  <tbody>\n",
       "    <tr>\n",
       "      <th>mI_imp</th>\n",
       "      <td>0.000000</td>\n",
       "      <td>31.459075</td>\n",
       "      <td>0.221910</td>\n",
       "      <td>5883.939958</td>\n",
       "      <td>3998.882893</td>\n",
       "      <td>0.0</td>\n",
       "    </tr>\n",
       "    <tr>\n",
       "      <th>mICMS</th>\n",
       "      <td>10712.680977</td>\n",
       "      <td>931.475627</td>\n",
       "      <td>0.000000</td>\n",
       "      <td>144769.172298</td>\n",
       "      <td>11832.336903</td>\n",
       "      <td>0.0</td>\n",
       "    </tr>\n",
       "    <tr>\n",
       "      <th>mIPI</th>\n",
       "      <td>2495.879808</td>\n",
       "      <td>0.212541</td>\n",
       "      <td>0.000000</td>\n",
       "      <td>17084.749138</td>\n",
       "      <td>5352.662577</td>\n",
       "      <td>0.0</td>\n",
       "    </tr>\n",
       "    <tr>\n",
       "      <th>mOI_liq_Sub</th>\n",
       "      <td>10778.643971</td>\n",
       "      <td>1131.691354</td>\n",
       "      <td>1236.539125</td>\n",
       "      <td>67666.853335</td>\n",
       "      <td>30095.420833</td>\n",
       "      <td>0.0</td>\n",
       "    </tr>\n",
       "  </tbody>\n",
       "</table>\n",
       "</div>"
      ],
      "text/plain": [
       "              X_bens_serv          C_g        C_ong            C_f  \\\n",
       "mI_imp           0.000000    31.459075     0.221910    5883.939958   \n",
       "mICMS        10712.680977   931.475627     0.000000  144769.172298   \n",
       "mIPI          2495.879808     0.212541     0.000000   17084.749138   \n",
       "mOI_liq_Sub  10778.643971  1131.691354  1236.539125   67666.853335   \n",
       "\n",
       "                     FBKF   DE  \n",
       "mI_imp        3998.882893  0.0  \n",
       "mICMS        11832.336903  0.0  \n",
       "mIPI          5352.662577  0.0  \n",
       "mOI_liq_Sub  30095.420833  0.0  "
      ]
     },
     "execution_count": 31,
     "metadata": {},
     "output_type": "execute_result"
    }
   ],
   "source": [
    "sys.mT_final"
   ]
  },
  {
   "cell_type": "code",
   "execution_count": 35,
   "id": "5f256313-99de-4dda-9fd1-eec9c6899d01",
   "metadata": {},
   "outputs": [
    {
     "name": "stdout",
     "output_type": "stream",
     "text": [
      "Oferta agragada (OA) estimada: 7438007.0\n",
      "Demanda agragada (DA) estimada: 7438007.0\n",
      "Oferta agragada (OA) calculada pelo (IBGE): 7438007\n"
     ]
    },
    {
     "name": "stderr",
     "output_type": "stream",
     "text": [
      "/home/felipe/.local/lib/python3.10/site-packages/numpy/core/fromnumeric.py:86: FutureWarning: The behavior of DataFrame.sum with axis=None is deprecated, in a future version this will reduce over both axes and return a scalar. To retain the old behavior, pass axis=0 (or do not pass axis)\n",
      "  return reduction(axis=axis, out=out, **passkwargs)\n"
     ]
    },
    {
     "data": {
      "text/plain": [
       "PT    0.0\n",
       "dtype: object"
      ]
     },
     "execution_count": 35,
     "metadata": {},
     "output_type": "execute_result"
    }
   ],
   "source": [
    "# 8) verificar se os calculos estão corretos\n",
    "# Oferta agragada (AO) deve ser igual à demanda agragada (AD)\n",
    "import numpy as np\n",
    "from iotbr import io_system as ios\n",
    "sys = ios.system('2011','51','t')\n",
    "print('Oferta agragada (OA) estimada: ' + str(sys.OA))\n",
    "print('Demanda agragada (DA) estimada: ' + str(sys.DA))\n",
    "\n",
    "#Oferta agragada (OA) calculada pelo (IBGE)\n",
    "OA = np.sum(tru.read_var('2011','51','PT','t'))\n",
    "print('Oferta agragada (OA) calculada pelo (IBGE): '+ str(OA.values[0]))\n",
    "\n",
    "#problema com o nível 51 (o problema está na tabela 'P_matrix'. Ela está deslocada uma coluna para frente. Corrigir o Dicionário)\n",
    "#Oferta agragada (OA) estimada: 6599149.0\n",
    "#Demanda agragada (DA) estimada: 6599149.0\n",
    "#Oferta agragada (OA) calculada pelo (IBGE): 6599149\n",
    "\n",
    "#Oferta agragada (OA) estimada: 4285219.0\n",
    "#Demanda agragada (DA) estimada: 6545795.609601207\n",
    "#Oferta agragada (OA) calculada pelo (IBGE): 6599149\n",
    "#PT   -2313930.0\n",
    "\n",
    "sys.OA - OA"
   ]
  },
  {
   "cell_type": "code",
   "execution_count": 36,
   "id": "28929759-a989-413e-8328-8e4078fc9a0f",
   "metadata": {},
   "outputs": [
    {
     "name": "stdout",
     "output_type": "stream",
     "text": [
      "2000\n",
      "-2.3283064365386963e-10\n",
      "-2.3283064365386963e-10\n",
      "2001\n",
      "4.656612873077393e-10\n",
      "1.3969838619232178e-09\n",
      "2002\n",
      "-4.656612873077393e-10\n",
      "-9.313225746154785e-10\n",
      "2003\n",
      "4.656612873077393e-10\n",
      "9.313225746154785e-10\n",
      "2004\n",
      "-4.656612873077393e-10\n",
      "-9.313225746154785e-10\n",
      "2005\n",
      "0.0\n",
      "0.0\n",
      "2006\n",
      "-9.313225746154785e-10\n",
      "0.0\n",
      "2007\n",
      "-9.313225746154785e-10\n",
      "-9.313225746154785e-10\n",
      "2008\n",
      "-1.862645149230957e-09\n",
      "-9.313225746154785e-10\n",
      "2009\n",
      "9.313225746154785e-10\n",
      "1.862645149230957e-09\n",
      "2010\n",
      "0.0\n",
      "0.0\n"
     ]
    }
   ],
   "source": [
    "# 9) Verificar igualdade entre demanda e oferta (niveis 12 e 51)\n",
    "for t in range(2000,2011):\n",
    "  print(t)\n",
    "  [print(ios.system(str(t),x,'t').OA - ios.system(str(t),x,'t').DA) for x in ['12','51']]"
   ]
  },
  {
   "cell_type": "code",
   "execution_count": 37,
   "id": "b9f6cc92-5061-4971-9717-7c8515f9c718",
   "metadata": {},
   "outputs": [
    {
     "name": "stdout",
     "output_type": "stream",
     "text": [
      "2010\n",
      "0.0\n",
      "0.0\n",
      "0.0\n",
      "0.0\n",
      "2011\n",
      "0.0\n",
      "-9.313225746154785e-10\n",
      "0.0\n",
      "9.313225746154785e-10\n",
      "2012\n",
      "1.862645149230957e-09\n",
      "0.0\n",
      "9.313225746154785e-10\n",
      "0.0\n",
      "2013\n",
      "0.0\n",
      "0.0\n",
      "0.0\n",
      "0.0\n",
      "2014\n",
      "0.0\n",
      "0.0\n",
      "0.0\n",
      "0.0\n",
      "2015\n",
      "0.0\n",
      "0.0\n",
      "0.0\n",
      "0.0\n",
      "2016\n",
      "0.0\n",
      "0.0\n",
      "0.0\n",
      "0.0\n",
      "2017\n",
      "0.0\n",
      "0.0\n",
      "0.0\n",
      "0.0\n",
      "2018\n",
      "0.0\n",
      "-1.862645149230957e-09\n",
      "0.0\n",
      "0.0\n",
      "2019\n",
      "0.0\n",
      "0.0\n",
      "0.0\n",
      "0.0\n",
      "2020\n",
      "-1.862645149230957e-09\n",
      "0.0\n",
      "1.862645149230957e-09\n",
      "0.0\n"
     ]
    }
   ],
   "source": [
    "# 10) Verificar igualdade entre demanda e oferta (niveis 12, 20, 51 e 68)\n",
    "for t in range(2010,2021):\n",
    "  print(t)\n",
    "  [print(ios.system(str(t),x,'t').OA - ios.system(str(t),x,'t').DA) for x in ['12','20','51','68']]"
   ]
  },
  {
   "cell_type": "code",
   "execution_count": 39,
   "id": "c0085975-36cd-43bb-8ef9-ece3b966767d",
   "metadata": {},
   "outputs": [
    {
     "name": "stdout",
     "output_type": "stream",
     "text": [
      "(69, 69)\n"
     ]
    },
    {
     "data": {
      "text/plain": [
       "array([[1.05580354, 0.09072457, 0.0304036 , ..., 0.05456855, 0.108639  ,\n",
       "        0.108639  ],\n",
       "       [0.01734766, 1.06362242, 0.01701162, ..., 0.02880225, 0.05849285,\n",
       "        0.05849285],\n",
       "       [0.00873348, 0.01714415, 1.0832968 , ..., 0.00725779, 0.01406432,\n",
       "        0.01406432],\n",
       "       ...,\n",
       "       [0.01606992, 0.02025271, 0.01161354, ..., 1.03154091, 0.06433127,\n",
       "        0.06433127],\n",
       "       [0.00948571, 0.01220092, 0.00667081, ..., 0.01808306, 1.0418943 ,\n",
       "        0.0418943 ],\n",
       "       [0.38056413, 0.48949792, 0.26763131, ..., 0.72548784, 1.68078882,\n",
       "        1.68078882]])"
      ]
     },
     "execution_count": 39,
     "metadata": {},
     "output_type": "execute_result"
    }
   ],
   "source": [
    "# 11) matrizes do sistema IO com setor household (coluna) e produto trabalho (linha)\n",
    "\n",
    "#modificar a matriz de demanda intermediária\n",
    "##inserir o bem trabalho na última linha damatriz de demanda intermediária\n",
    "##bens estão nas linhas e setores nas colunas. Cada setor produz um unico bem\n",
    "import numpy as np\n",
    "from iotbr import io_system as ios\n",
    "sys = ios.system('2010','68','t')\n",
    "mY = sys.mY\n",
    "vVA_table_rem = tru.read_var('2010','68','VA_table','t')['Remunerações'].values.reshape(-1, 1).T#renda das famílias (=Renda do Trabalho)\n",
    "mZBarr =  np.concatenate((sys.mD_int_pb_qua, vVA_table_rem), axis=0)\n",
    "\n",
    "##inserir setor trabalho na ultima coluna da matriz de demanda intermediária\n",
    "vD_final_pb_qua_C_f = mY['C_f'].values #consumo das famílias a pb\n",
    "vD_final_pb_qua_C_f_ = np.append(vD_final_pb_qua_C_f, 0).reshape(-1, 1)\n",
    "mZBarr = np.concatenate((mZBarr, vD_final_pb_qua_C_f_), axis=1)\n",
    "\n",
    "\n",
    "#reestimar a matris auxiliar A\n",
    "vVBP = tru.read_var('2010','68','VA_table','t')['Valor da produção'].values\n",
    "#devo somar 'vVA_table_rem' ou 'vVBP'????\n",
    "vVBP = np.append(vVBP, np.sum(vVA_table_rem)).reshape(-1, 1).T\n",
    "mABarr= np.zeros([68+1,68+1], dtype=float)\n",
    "mABarr[:,:] = mZBarr[:,:]  / vVBP[0,:]\n",
    "\n",
    "#reestimar a matriz de Leontief\n",
    "mIBarr = np.eye(68 +1)\n",
    "mLeontiefBarr = np.linalg.inv(mIBarr - mABarr)\n",
    "\n",
    "print(mZBarr.shape)\n",
    "mLeontiefBarr"
   ]
  }
 ],
 "metadata": {
  "kernelspec": {
   "display_name": "Python 3 (ipykernel)",
   "language": "python",
   "name": "python3"
  },
  "language_info": {
   "codemirror_mode": {
    "name": "ipython",
    "version": 3
   },
   "file_extension": ".py",
   "mimetype": "text/x-python",
   "name": "python",
   "nbconvert_exporter": "python",
   "pygments_lexer": "ipython3",
   "version": "3.10.12"
  }
 },
 "nbformat": 4,
 "nbformat_minor": 5
}
